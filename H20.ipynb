{
  "nbformat": 4,
  "nbformat_minor": 0,
  "metadata": {
    "colab": {
      "name": "H20.ipynb",
      "provenance": [],
      "collapsed_sections": []
    },
    "kernelspec": {
      "name": "python3",
      "display_name": "Python 3"
    },
    "language_info": {
      "name": "python"
    }
  },
  "cells": [
    {
      "cell_type": "code",
      "metadata": {
        "colab": {
          "base_uri": "https://localhost:8080/"
        },
        "id": "I-5no50ln-rn",
        "outputId": "449b251b-09ef-43ad-db20-9227a10a1814"
      },
      "source": [
        "! apt-get install default-jre\n",
        "!java -version"
      ],
      "execution_count": 2,
      "outputs": [
        {
          "output_type": "stream",
          "text": [
            "Reading package lists... Done\n",
            "Building dependency tree       \n",
            "Reading state information... Done\n",
            "default-jre is already the newest version (2:1.11-68ubuntu1~18.04.1).\n",
            "The following package was automatically installed and is no longer required:\n",
            "  libnvidia-common-460\n",
            "Use 'apt autoremove' to remove it.\n",
            "0 upgraded, 0 newly installed, 0 to remove and 34 not upgraded.\n",
            "openjdk version \"11.0.10\" 2021-01-19\n",
            "OpenJDK Runtime Environment (build 11.0.10+9-Ubuntu-0ubuntu1.18.04)\n",
            "OpenJDK 64-Bit Server VM (build 11.0.10+9-Ubuntu-0ubuntu1.18.04, mixed mode, sharing)\n"
          ],
          "name": "stdout"
        }
      ]
    },
    {
      "cell_type": "code",
      "metadata": {
        "colab": {
          "base_uri": "https://localhost:8080/"
        },
        "id": "KIl4mk9NpKLH",
        "outputId": "ec9e3581-4155-4ed5-aef6-53bcb4734975"
      },
      "source": [
        "! pip install h2o"
      ],
      "execution_count": 3,
      "outputs": [
        {
          "output_type": "stream",
          "text": [
            "Requirement already satisfied: h2o in /usr/local/lib/python3.7/dist-packages (3.32.1.1)\n",
            "Requirement already satisfied: requests in /usr/local/lib/python3.7/dist-packages (from h2o) (2.23.0)\n",
            "Requirement already satisfied: tabulate in /usr/local/lib/python3.7/dist-packages (from h2o) (0.8.9)\n",
            "Requirement already satisfied: colorama>=0.3.8 in /usr/local/lib/python3.7/dist-packages (from h2o) (0.4.4)\n",
            "Requirement already satisfied: future in /usr/local/lib/python3.7/dist-packages (from h2o) (0.16.0)\n",
            "Requirement already satisfied: urllib3!=1.25.0,!=1.25.1,<1.26,>=1.21.1 in /usr/local/lib/python3.7/dist-packages (from requests->h2o) (1.24.3)\n",
            "Requirement already satisfied: certifi>=2017.4.17 in /usr/local/lib/python3.7/dist-packages (from requests->h2o) (2020.12.5)\n",
            "Requirement already satisfied: idna<3,>=2.5 in /usr/local/lib/python3.7/dist-packages (from requests->h2o) (2.10)\n",
            "Requirement already satisfied: chardet<4,>=3.0.2 in /usr/local/lib/python3.7/dist-packages (from requests->h2o) (3.0.4)\n"
          ],
          "name": "stdout"
        }
      ]
    },
    {
      "cell_type": "code",
      "metadata": {
        "id": "v8e5nOWApK5N"
      },
      "source": [
        "import h2o\n",
        "from h2o.automl import H2OAutoML"
      ],
      "execution_count": 4,
      "outputs": []
    },
    {
      "cell_type": "code",
      "metadata": {
        "colab": {
          "base_uri": "https://localhost:8080/",
          "height": 545
        },
        "id": "5jbMbzG4pWyJ",
        "outputId": "fda7ab4a-0d0c-448d-b675-b04f2301479b"
      },
      "source": [
        "h2o.init()"
      ],
      "execution_count": 5,
      "outputs": [
        {
          "output_type": "stream",
          "text": [
            "Checking whether there is an H2O instance running at http://localhost:54321 ..... not found.\n",
            "Attempting to start a local H2O server...\n",
            "  Java Version: openjdk version \"11.0.10\" 2021-01-19; OpenJDK Runtime Environment (build 11.0.10+9-Ubuntu-0ubuntu1.18.04); OpenJDK 64-Bit Server VM (build 11.0.10+9-Ubuntu-0ubuntu1.18.04, mixed mode, sharing)\n",
            "  Starting server from /usr/local/lib/python3.7/dist-packages/h2o/backend/bin/h2o.jar\n",
            "  Ice root: /tmp/tmp6erm93id\n",
            "  JVM stdout: /tmp/tmp6erm93id/h2o_unknownUser_started_from_python.out\n",
            "  JVM stderr: /tmp/tmp6erm93id/h2o_unknownUser_started_from_python.err\n",
            "  Server is running at http://127.0.0.1:54321\n",
            "Connecting to H2O server at http://127.0.0.1:54321 ... successful.\n"
          ],
          "name": "stdout"
        },
        {
          "output_type": "display_data",
          "data": {
            "text/html": [
              "<div style=\"overflow:auto\"><table style=\"width:50%\"><tr><td>H2O_cluster_uptime:</td>\n",
              "<td>03 secs</td></tr>\n",
              "<tr><td>H2O_cluster_timezone:</td>\n",
              "<td>Etc/UTC</td></tr>\n",
              "<tr><td>H2O_data_parsing_timezone:</td>\n",
              "<td>UTC</td></tr>\n",
              "<tr><td>H2O_cluster_version:</td>\n",
              "<td>3.32.1.1</td></tr>\n",
              "<tr><td>H2O_cluster_version_age:</td>\n",
              "<td>30 days </td></tr>\n",
              "<tr><td>H2O_cluster_name:</td>\n",
              "<td>H2O_from_python_unknownUser_0r0d1b</td></tr>\n",
              "<tr><td>H2O_cluster_total_nodes:</td>\n",
              "<td>1</td></tr>\n",
              "<tr><td>H2O_cluster_free_memory:</td>\n",
              "<td>3.180 Gb</td></tr>\n",
              "<tr><td>H2O_cluster_total_cores:</td>\n",
              "<td>2</td></tr>\n",
              "<tr><td>H2O_cluster_allowed_cores:</td>\n",
              "<td>2</td></tr>\n",
              "<tr><td>H2O_cluster_status:</td>\n",
              "<td>accepting new members, healthy</td></tr>\n",
              "<tr><td>H2O_connection_url:</td>\n",
              "<td>http://127.0.0.1:54321</td></tr>\n",
              "<tr><td>H2O_connection_proxy:</td>\n",
              "<td>{\"http\": null, \"https\": null}</td></tr>\n",
              "<tr><td>H2O_internal_security:</td>\n",
              "<td>False</td></tr>\n",
              "<tr><td>H2O_API_Extensions:</td>\n",
              "<td>Amazon S3, XGBoost, Algos, AutoML, Core V3, TargetEncoder, Core V4</td></tr>\n",
              "<tr><td>Python_version:</td>\n",
              "<td>3.7.10 final</td></tr></table></div>"
            ],
            "text/plain": [
              "--------------------------  ------------------------------------------------------------------\n",
              "H2O_cluster_uptime:         03 secs\n",
              "H2O_cluster_timezone:       Etc/UTC\n",
              "H2O_data_parsing_timezone:  UTC\n",
              "H2O_cluster_version:        3.32.1.1\n",
              "H2O_cluster_version_age:    30 days\n",
              "H2O_cluster_name:           H2O_from_python_unknownUser_0r0d1b\n",
              "H2O_cluster_total_nodes:    1\n",
              "H2O_cluster_free_memory:    3.180 Gb\n",
              "H2O_cluster_total_cores:    2\n",
              "H2O_cluster_allowed_cores:  2\n",
              "H2O_cluster_status:         accepting new members, healthy\n",
              "H2O_connection_url:         http://127.0.0.1:54321\n",
              "H2O_connection_proxy:       {\"http\": null, \"https\": null}\n",
              "H2O_internal_security:      False\n",
              "H2O_API_Extensions:         Amazon S3, XGBoost, Algos, AutoML, Core V3, TargetEncoder, Core V4\n",
              "Python_version:             3.7.10 final\n",
              "--------------------------  ------------------------------------------------------------------"
            ]
          },
          "metadata": {
            "tags": []
          }
        }
      ]
    },
    {
      "cell_type": "code",
      "metadata": {
        "colab": {
          "base_uri": "https://localhost:8080/"
        },
        "id": "GPCVgbnFpdBU",
        "outputId": "ee1064dd-7c70-4c1e-f7d0-b2ab07a1aa55"
      },
      "source": [
        "import os\n",
        "docker_data_path = \"C:/Users/VK SOLUTION/Desktop/powerplant_output.csv\"\n",
        "if os.path.isfile(docker_data_path):\n",
        "  data_path = docker_data_path\n",
        "else:\n",
        "  data_path = \"https://github.com/h2oai/h2o-tutorials/raw/master/h2o-world-2017/automl/data/powerplant_output.csv\"\n",
        "\n",
        "\n",
        "# Load data into H2O\n",
        "df = h2o.import_file(data_path)"
      ],
      "execution_count": 6,
      "outputs": [
        {
          "output_type": "stream",
          "text": [
            "Parse progress: |█████████████████████████████████████████████████████████| 100%\n"
          ],
          "name": "stdout"
        }
      ]
    },
    {
      "cell_type": "code",
      "metadata": {
        "colab": {
          "base_uri": "https://localhost:8080/",
          "height": 465
        },
        "id": "AfZdbIvuroKE",
        "outputId": "7db5b916-bd08-488b-ab19-ac5df0c0f0ce"
      },
      "source": [
        "df.describe()"
      ],
      "execution_count": 7,
      "outputs": [
        {
          "output_type": "stream",
          "text": [
            "Rows:9568\n",
            "Cols:5\n",
            "\n",
            "\n"
          ],
          "name": "stdout"
        },
        {
          "output_type": "display_data",
          "data": {
            "text/html": [
              "<table>\n",
              "<thead>\n",
              "<tr><th>       </th><th>TemperatureCelcius  </th><th>ExhaustVacuumHg   </th><th>AmbientPressureMillibar  </th><th>RelativeHumidity  </th><th>HourlyEnergyOutputMW  </th></tr>\n",
              "</thead>\n",
              "<tbody>\n",
              "<tr><td>type   </td><td>real                </td><td>real              </td><td>real                     </td><td>real              </td><td>real                  </td></tr>\n",
              "<tr><td>mins   </td><td>1.81                </td><td>25.36             </td><td>992.89                   </td><td>25.56             </td><td>420.26                </td></tr>\n",
              "<tr><td>mean   </td><td>19.651231187290957  </td><td>54.3058037207358  </td><td>1013.2590781772578       </td><td>73.30897784280936 </td><td>454.36500940635455    </td></tr>\n",
              "<tr><td>maxs   </td><td>37.11               </td><td>81.56             </td><td>1033.3                   </td><td>100.16            </td><td>495.76                </td></tr>\n",
              "<tr><td>sigma  </td><td>7.452473229611082   </td><td>12.707892998326807</td><td>5.93878370581162         </td><td>14.600268756728957</td><td>17.066994999803423    </td></tr>\n",
              "<tr><td>zeros  </td><td>0                   </td><td>0                 </td><td>0                        </td><td>0                 </td><td>0                     </td></tr>\n",
              "<tr><td>missing</td><td>0                   </td><td>0                 </td><td>0                        </td><td>0                 </td><td>0                     </td></tr>\n",
              "<tr><td>0      </td><td>14.96               </td><td>41.76             </td><td>1024.07                  </td><td>73.17             </td><td>463.26                </td></tr>\n",
              "<tr><td>1      </td><td>25.18               </td><td>62.96             </td><td>1020.04                  </td><td>59.08             </td><td>444.37                </td></tr>\n",
              "<tr><td>2      </td><td>5.11                </td><td>39.4              </td><td>1012.16                  </td><td>92.14             </td><td>488.56                </td></tr>\n",
              "<tr><td>3      </td><td>20.86               </td><td>57.32             </td><td>1010.24                  </td><td>76.64             </td><td>446.48                </td></tr>\n",
              "<tr><td>4      </td><td>10.82               </td><td>37.5              </td><td>1009.23                  </td><td>96.62             </td><td>473.9                 </td></tr>\n",
              "<tr><td>5      </td><td>26.27               </td><td>59.44             </td><td>1012.23                  </td><td>58.77             </td><td>443.67                </td></tr>\n",
              "<tr><td>6      </td><td>15.89               </td><td>43.96             </td><td>1014.02                  </td><td>75.24             </td><td>467.35                </td></tr>\n",
              "<tr><td>7      </td><td>9.48                </td><td>44.71             </td><td>1019.12                  </td><td>66.43             </td><td>478.42                </td></tr>\n",
              "<tr><td>8      </td><td>14.64               </td><td>45.0              </td><td>1021.78                  </td><td>41.25             </td><td>475.98                </td></tr>\n",
              "<tr><td>9      </td><td>11.74               </td><td>43.56             </td><td>1015.14                  </td><td>70.72             </td><td>477.5                 </td></tr>\n",
              "</tbody>\n",
              "</table>"
            ]
          },
          "metadata": {
            "tags": []
          }
        }
      ]
    },
    {
      "cell_type": "code",
      "metadata": {
        "id": "mjwqe5VhrwNA"
      },
      "source": [
        "y = \"HourlyEnergyOutputMW\""
      ],
      "execution_count": 8,
      "outputs": []
    },
    {
      "cell_type": "code",
      "metadata": {
        "id": "M2Mjfy2or_y7"
      },
      "source": [
        "splits = df.split_frame(ratios = [0.8], seed = 1)\n",
        "train = splits[0]\n",
        "test = splits[1]"
      ],
      "execution_count": 9,
      "outputs": []
    },
    {
      "cell_type": "code",
      "metadata": {
        "colab": {
          "base_uri": "https://localhost:8080/"
        },
        "id": "K-6edXhTsWDA",
        "outputId": "29f43cb6-8eeb-4c8d-8793-f05e0dfba5fa"
      },
      "source": [
        "aml = H2OAutoML(max_runtime_secs = 60, seed = 1, project_name = \"Power_Planet_Data\")\n",
        "aml.train(y = y, training_frame = train, leaderboard_frame = test)"
      ],
      "execution_count": 10,
      "outputs": [
        {
          "output_type": "stream",
          "text": [
            "AutoML progress: |████████████████████████████████████████████████████████| 100%\n"
          ],
          "name": "stdout"
        }
      ]
    },
    {
      "cell_type": "code",
      "metadata": {
        "colab": {
          "base_uri": "https://localhost:8080/",
          "height": 340
        },
        "id": "OFkbDNntsXdM",
        "outputId": "c05ef462-e240-4dba-d313-8b47a88bf686"
      },
      "source": [
        "# aml2 = H2OAutoML(max_runtime_secs = 60, seed = 1, project_name = \"powerplant_full_data\")\n",
        "# aml2.train(y = y, training_frame = df)"
      ],
      "execution_count": 12,
      "outputs": [
        {
          "output_type": "stream",
          "text": [
            "AutoML progress: |████ (cancelled)\n"
          ],
          "name": "stdout"
        },
        {
          "output_type": "error",
          "ename": "H2OJobCancelled",
          "evalue": "ignored",
          "traceback": [
            "\u001b[0;31m---------------------------------------------------------------------------\u001b[0m",
            "\u001b[0;31mH2OJobCancelled\u001b[0m                           Traceback (most recent call last)",
            "\u001b[0;32m<ipython-input-12-b24a2119e0bc>\u001b[0m in \u001b[0;36m<module>\u001b[0;34m()\u001b[0m\n\u001b[1;32m      1\u001b[0m \u001b[0maml2\u001b[0m \u001b[0;34m=\u001b[0m \u001b[0mH2OAutoML\u001b[0m\u001b[0;34m(\u001b[0m\u001b[0mmax_runtime_secs\u001b[0m \u001b[0;34m=\u001b[0m \u001b[0;36m60\u001b[0m\u001b[0;34m,\u001b[0m \u001b[0mseed\u001b[0m \u001b[0;34m=\u001b[0m \u001b[0;36m1\u001b[0m\u001b[0;34m,\u001b[0m \u001b[0mproject_name\u001b[0m \u001b[0;34m=\u001b[0m \u001b[0;34m\"powerplant_full_data\"\u001b[0m\u001b[0;34m)\u001b[0m\u001b[0;34m\u001b[0m\u001b[0;34m\u001b[0m\u001b[0m\n\u001b[0;32m----> 2\u001b[0;31m \u001b[0maml2\u001b[0m\u001b[0;34m.\u001b[0m\u001b[0mtrain\u001b[0m\u001b[0;34m(\u001b[0m\u001b[0my\u001b[0m \u001b[0;34m=\u001b[0m \u001b[0my\u001b[0m\u001b[0;34m,\u001b[0m \u001b[0mtraining_frame\u001b[0m \u001b[0;34m=\u001b[0m \u001b[0mdf\u001b[0m\u001b[0;34m)\u001b[0m\u001b[0;34m\u001b[0m\u001b[0;34m\u001b[0m\u001b[0m\n\u001b[0m",
            "\u001b[0;32m/usr/local/lib/python3.7/dist-packages/h2o/automl/autoh2o.py\u001b[0m in \u001b[0;36mtrain\u001b[0;34m(self, x, y, training_frame, fold_column, weights_column, validation_frame, leaderboard_frame, blending_frame)\u001b[0m\n\u001b[1;32m    479\u001b[0m         \u001b[0mpoll_updates\u001b[0m \u001b[0;34m=\u001b[0m \u001b[0mft\u001b[0m\u001b[0;34m.\u001b[0m\u001b[0mpartial\u001b[0m\u001b[0;34m(\u001b[0m\u001b[0mself\u001b[0m\u001b[0;34m.\u001b[0m\u001b[0m_poll_training_updates\u001b[0m\u001b[0;34m,\u001b[0m \u001b[0mverbosity\u001b[0m\u001b[0;34m=\u001b[0m\u001b[0mself\u001b[0m\u001b[0;34m.\u001b[0m\u001b[0m_verbosity\u001b[0m\u001b[0;34m,\u001b[0m \u001b[0mstate\u001b[0m\u001b[0;34m=\u001b[0m\u001b[0;34m{\u001b[0m\u001b[0;34m}\u001b[0m\u001b[0;34m)\u001b[0m\u001b[0;34m\u001b[0m\u001b[0;34m\u001b[0m\u001b[0m\n\u001b[1;32m    480\u001b[0m         \u001b[0;32mtry\u001b[0m\u001b[0;34m:\u001b[0m\u001b[0;34m\u001b[0m\u001b[0;34m\u001b[0m\u001b[0m\n\u001b[0;32m--> 481\u001b[0;31m             \u001b[0mself\u001b[0m\u001b[0;34m.\u001b[0m\u001b[0m_job\u001b[0m\u001b[0;34m.\u001b[0m\u001b[0mpoll\u001b[0m\u001b[0;34m(\u001b[0m\u001b[0mpoll_updates\u001b[0m\u001b[0;34m=\u001b[0m\u001b[0mpoll_updates\u001b[0m\u001b[0;34m)\u001b[0m\u001b[0;34m\u001b[0m\u001b[0;34m\u001b[0m\u001b[0m\n\u001b[0m\u001b[1;32m    482\u001b[0m         \u001b[0;32mfinally\u001b[0m\u001b[0;34m:\u001b[0m\u001b[0;34m\u001b[0m\u001b[0;34m\u001b[0m\u001b[0m\n\u001b[1;32m    483\u001b[0m             \u001b[0mpoll_updates\u001b[0m\u001b[0;34m(\u001b[0m\u001b[0mself\u001b[0m\u001b[0;34m.\u001b[0m\u001b[0m_job\u001b[0m\u001b[0;34m,\u001b[0m \u001b[0;36m1\u001b[0m\u001b[0;34m)\u001b[0m\u001b[0;34m\u001b[0m\u001b[0;34m\u001b[0m\u001b[0m\n",
            "\u001b[0;32m/usr/local/lib/python3.7/dist-packages/h2o/job.py\u001b[0m in \u001b[0;36mpoll\u001b[0;34m(self, poll_updates)\u001b[0m\n\u001b[1;32m     74\u001b[0m         \u001b[0;31m# check if failed... and politely print relevant message\u001b[0m\u001b[0;34m\u001b[0m\u001b[0;34m\u001b[0m\u001b[0;34m\u001b[0m\u001b[0m\n\u001b[1;32m     75\u001b[0m         \u001b[0;32mif\u001b[0m \u001b[0mself\u001b[0m\u001b[0;34m.\u001b[0m\u001b[0mstatus\u001b[0m \u001b[0;34m==\u001b[0m \u001b[0;34m\"CANCELLED\"\u001b[0m\u001b[0;34m:\u001b[0m\u001b[0;34m\u001b[0m\u001b[0;34m\u001b[0m\u001b[0m\n\u001b[0;32m---> 76\u001b[0;31m             \u001b[0;32mraise\u001b[0m \u001b[0mH2OJobCancelled\u001b[0m\u001b[0;34m(\u001b[0m\u001b[0;34m\"Job<%s> was cancelled by the user.\"\u001b[0m \u001b[0;34m%\u001b[0m \u001b[0mself\u001b[0m\u001b[0;34m.\u001b[0m\u001b[0mjob_key\u001b[0m\u001b[0;34m)\u001b[0m\u001b[0;34m\u001b[0m\u001b[0;34m\u001b[0m\u001b[0m\n\u001b[0m\u001b[1;32m     77\u001b[0m         \u001b[0;32mif\u001b[0m \u001b[0mself\u001b[0m\u001b[0;34m.\u001b[0m\u001b[0mstatus\u001b[0m \u001b[0;34m==\u001b[0m \u001b[0;34m\"FAILED\"\u001b[0m\u001b[0;34m:\u001b[0m\u001b[0;34m\u001b[0m\u001b[0;34m\u001b[0m\u001b[0m\n\u001b[1;32m     78\u001b[0m             \u001b[0;32mif\u001b[0m \u001b[0;34m(\u001b[0m\u001b[0misinstance\u001b[0m\u001b[0;34m(\u001b[0m\u001b[0mself\u001b[0m\u001b[0;34m.\u001b[0m\u001b[0mjob\u001b[0m\u001b[0;34m,\u001b[0m \u001b[0mdict\u001b[0m\u001b[0;34m)\u001b[0m\u001b[0;34m)\u001b[0m \u001b[0;32mand\u001b[0m \u001b[0;34m(\u001b[0m\u001b[0;34m\"stacktrace\"\u001b[0m \u001b[0;32min\u001b[0m \u001b[0mlist\u001b[0m\u001b[0;34m(\u001b[0m\u001b[0mself\u001b[0m\u001b[0;34m.\u001b[0m\u001b[0mjob\u001b[0m\u001b[0;34m)\u001b[0m\u001b[0;34m)\u001b[0m\u001b[0;34m:\u001b[0m\u001b[0;34m\u001b[0m\u001b[0;34m\u001b[0m\u001b[0m\n",
            "\u001b[0;31mH2OJobCancelled\u001b[0m: Job<$03017f00000132d4ffffffff$_ad5f887f24eb7ad2f7de41e8ffc94f1e> was cancelled by the user."
          ]
        }
      ]
    },
    {
      "cell_type": "code",
      "metadata": {
        "colab": {
          "base_uri": "https://localhost:8080/",
          "height": 250
        },
        "id": "CpHKMd4-suUW",
        "outputId": "256cda0a-baf4-4cab-b575-8a440250e1d1"
      },
      "source": [
        "aml.leaderboard.head()"
      ],
      "execution_count": 11,
      "outputs": [
        {
          "output_type": "display_data",
          "data": {
            "text/html": [
              "<table>\n",
              "<thead>\n",
              "<tr><th>model_id                                           </th><th style=\"text-align: right;\">  mean_residual_deviance</th><th style=\"text-align: right;\">   rmse</th><th style=\"text-align: right;\">    mse</th><th style=\"text-align: right;\">    mae</th><th style=\"text-align: right;\">     rmsle</th></tr>\n",
              "</thead>\n",
              "<tbody>\n",
              "<tr><td>XGBoost_grid__1_AutoML_20210425_093944_model_1     </td><td style=\"text-align: right;\">                 11.7239</td><td style=\"text-align: right;\">3.42402</td><td style=\"text-align: right;\">11.7239</td><td style=\"text-align: right;\">2.34031</td><td style=\"text-align: right;\">0.00751901</td></tr>\n",
              "<tr><td>XGBoost_2_AutoML_20210425_093944                   </td><td style=\"text-align: right;\">                 14.338 </td><td style=\"text-align: right;\">3.78656</td><td style=\"text-align: right;\">14.338 </td><td style=\"text-align: right;\">2.77924</td><td style=\"text-align: right;\">0.00832719</td></tr>\n",
              "<tr><td>XGBoost_3_AutoML_20210425_093944                   </td><td style=\"text-align: right;\">                 15.6642</td><td style=\"text-align: right;\">3.95781</td><td style=\"text-align: right;\">15.6642</td><td style=\"text-align: right;\">2.97243</td><td style=\"text-align: right;\">0.00870859</td></tr>\n",
              "<tr><td>GBM_grid__1_AutoML_20210425_093944_model_1         </td><td style=\"text-align: right;\">                 16.1382</td><td style=\"text-align: right;\">4.01724</td><td style=\"text-align: right;\">16.1382</td><td style=\"text-align: right;\">2.99246</td><td style=\"text-align: right;\">0.00883251</td></tr>\n",
              "<tr><td>XGBoost_grid__1_AutoML_20210425_093944_model_2     </td><td style=\"text-align: right;\">                 18.3797</td><td style=\"text-align: right;\">4.28716</td><td style=\"text-align: right;\">18.3797</td><td style=\"text-align: right;\">3.24708</td><td style=\"text-align: right;\">0.00940505</td></tr>\n",
              "<tr><td>DeepLearning_1_AutoML_20210425_093944              </td><td style=\"text-align: right;\">                 21.4836</td><td style=\"text-align: right;\">4.63504</td><td style=\"text-align: right;\">21.4836</td><td style=\"text-align: right;\">3.45221</td><td style=\"text-align: right;\">0.010203  </td></tr>\n",
              "<tr><td>XRT_1_AutoML_20210425_093944                       </td><td style=\"text-align: right;\">                 21.4955</td><td style=\"text-align: right;\">4.63633</td><td style=\"text-align: right;\">21.4955</td><td style=\"text-align: right;\">3.28516</td><td style=\"text-align: right;\">0.0102065 </td></tr>\n",
              "<tr><td>DeepLearning_grid__1_AutoML_20210425_093944_model_1</td><td style=\"text-align: right;\">                 21.6627</td><td style=\"text-align: right;\">4.65432</td><td style=\"text-align: right;\">21.6627</td><td style=\"text-align: right;\">3.5941 </td><td style=\"text-align: right;\">0.0102237 </td></tr>\n",
              "<tr><td>GLM_1_AutoML_20210425_093944                       </td><td style=\"text-align: right;\">                 22.4247</td><td style=\"text-align: right;\">4.73548</td><td style=\"text-align: right;\">22.4247</td><td style=\"text-align: right;\">3.74686</td><td style=\"text-align: right;\">0.0103862 </td></tr>\n",
              "<tr><td>DRF_1_AutoML_20210425_093944                       </td><td style=\"text-align: right;\">                 25.0549</td><td style=\"text-align: right;\">5.00549</td><td style=\"text-align: right;\">25.0549</td><td style=\"text-align: right;\">3.46702</td><td style=\"text-align: right;\">0.010972  </td></tr>\n",
              "</tbody>\n",
              "</table>"
            ]
          },
          "metadata": {
            "tags": []
          }
        },
        {
          "output_type": "execute_result",
          "data": {
            "text/plain": [
              ""
            ]
          },
          "metadata": {
            "tags": []
          },
          "execution_count": 11
        }
      ]
    },
    {
      "cell_type": "code",
      "metadata": {
        "id": "5ro7jzQSsu8P",
        "colab": {
          "base_uri": "https://localhost:8080/",
          "height": 1000
        },
        "outputId": "65d2a7cf-b56d-48e5-caed-0f455dc3bba8"
      },
      "source": [
        "aml.leader"
      ],
      "execution_count": 12,
      "outputs": [
        {
          "output_type": "stream",
          "text": [
            "Model Details\n",
            "=============\n",
            "H2OXGBoostEstimator :  XGBoost\n",
            "Model Key:  XGBoost_grid__1_AutoML_20210425_093944_model_1\n",
            "\n",
            "\n",
            "Model Summary: \n"
          ],
          "name": "stdout"
        },
        {
          "output_type": "display_data",
          "data": {
            "text/html": [
              "<div>\n",
              "<style scoped>\n",
              "    .dataframe tbody tr th:only-of-type {\n",
              "        vertical-align: middle;\n",
              "    }\n",
              "\n",
              "    .dataframe tbody tr th {\n",
              "        vertical-align: top;\n",
              "    }\n",
              "\n",
              "    .dataframe thead th {\n",
              "        text-align: right;\n",
              "    }\n",
              "</style>\n",
              "<table border=\"1\" class=\"dataframe\">\n",
              "  <thead>\n",
              "    <tr style=\"text-align: right;\">\n",
              "      <th></th>\n",
              "      <th></th>\n",
              "      <th>number_of_trees</th>\n",
              "    </tr>\n",
              "  </thead>\n",
              "  <tbody>\n",
              "    <tr>\n",
              "      <th>0</th>\n",
              "      <td></td>\n",
              "      <td>51.0</td>\n",
              "    </tr>\n",
              "  </tbody>\n",
              "</table>\n",
              "</div>"
            ],
            "text/plain": [
              "     number_of_trees\n",
              "0               51.0"
            ]
          },
          "metadata": {
            "tags": []
          }
        },
        {
          "output_type": "stream",
          "text": [
            "\n",
            "\n",
            "ModelMetricsRegression: xgboost\n",
            "** Reported on train data. **\n",
            "\n",
            "MSE: 0.696920266176113\n",
            "RMSE: 0.834817504713523\n",
            "MAE: 0.640105247124884\n",
            "RMSLE: 0.0018401629243108703\n",
            "Mean Residual Deviance: 0.696920266176113\n",
            "\n",
            "ModelMetricsRegression: xgboost\n",
            "** Reported on cross-validation data. **\n",
            "\n",
            "MSE: 11.046753516946008\n",
            "RMSE: 3.323665674664949\n",
            "MAE: 2.351983028012855\n",
            "RMSLE: 0.0072905572947118335\n",
            "Mean Residual Deviance: 11.046753516946008\n",
            "\n",
            "Cross-Validation Metrics Summary: \n"
          ],
          "name": "stdout"
        },
        {
          "output_type": "display_data",
          "data": {
            "text/html": [
              "<div>\n",
              "<style scoped>\n",
              "    .dataframe tbody tr th:only-of-type {\n",
              "        vertical-align: middle;\n",
              "    }\n",
              "\n",
              "    .dataframe tbody tr th {\n",
              "        vertical-align: top;\n",
              "    }\n",
              "\n",
              "    .dataframe thead th {\n",
              "        text-align: right;\n",
              "    }\n",
              "</style>\n",
              "<table border=\"1\" class=\"dataframe\">\n",
              "  <thead>\n",
              "    <tr style=\"text-align: right;\">\n",
              "      <th></th>\n",
              "      <th></th>\n",
              "      <th>mean</th>\n",
              "      <th>sd</th>\n",
              "      <th>cv_1_valid</th>\n",
              "      <th>cv_2_valid</th>\n",
              "      <th>cv_3_valid</th>\n",
              "      <th>cv_4_valid</th>\n",
              "      <th>cv_5_valid</th>\n",
              "    </tr>\n",
              "  </thead>\n",
              "  <tbody>\n",
              "    <tr>\n",
              "      <th>0</th>\n",
              "      <td>mae</td>\n",
              "      <td>2.3519886</td>\n",
              "      <td>0.06347698</td>\n",
              "      <td>2.3815114</td>\n",
              "      <td>2.279263</td>\n",
              "      <td>2.346959</td>\n",
              "      <td>2.3098922</td>\n",
              "      <td>2.4423175</td>\n",
              "    </tr>\n",
              "    <tr>\n",
              "      <th>1</th>\n",
              "      <td>mean_residual_deviance</td>\n",
              "      <td>11.04688</td>\n",
              "      <td>0.835572</td>\n",
              "      <td>11.529542</td>\n",
              "      <td>9.598401</td>\n",
              "      <td>11.053468</td>\n",
              "      <td>11.498491</td>\n",
              "      <td>11.554495</td>\n",
              "    </tr>\n",
              "    <tr>\n",
              "      <th>2</th>\n",
              "      <td>mse</td>\n",
              "      <td>11.04688</td>\n",
              "      <td>0.835572</td>\n",
              "      <td>11.529542</td>\n",
              "      <td>9.598401</td>\n",
              "      <td>11.053468</td>\n",
              "      <td>11.498491</td>\n",
              "      <td>11.554495</td>\n",
              "    </tr>\n",
              "    <tr>\n",
              "      <th>3</th>\n",
              "      <td>r2</td>\n",
              "      <td>0.96198237</td>\n",
              "      <td>0.0031758691</td>\n",
              "      <td>0.9603808</td>\n",
              "      <td>0.9674963</td>\n",
              "      <td>0.96174335</td>\n",
              "      <td>0.96068114</td>\n",
              "      <td>0.9596104</td>\n",
              "    </tr>\n",
              "    <tr>\n",
              "      <th>4</th>\n",
              "      <td>residual_deviance</td>\n",
              "      <td>11.04688</td>\n",
              "      <td>0.835572</td>\n",
              "      <td>11.529542</td>\n",
              "      <td>9.598401</td>\n",
              "      <td>11.053468</td>\n",
              "      <td>11.498491</td>\n",
              "      <td>11.554495</td>\n",
              "    </tr>\n",
              "    <tr>\n",
              "      <th>5</th>\n",
              "      <td>rmse</td>\n",
              "      <td>3.321691</td>\n",
              "      <td>0.12868698</td>\n",
              "      <td>3.3955178</td>\n",
              "      <td>3.0981286</td>\n",
              "      <td>3.3246756</td>\n",
              "      <td>3.3909426</td>\n",
              "      <td>3.3991902</td>\n",
              "    </tr>\n",
              "    <tr>\n",
              "      <th>6</th>\n",
              "      <td>rmsle</td>\n",
              "      <td>0.007286154</td>\n",
              "      <td>2.84574E-4</td>\n",
              "      <td>0.007444629</td>\n",
              "      <td>0.006799856</td>\n",
              "      <td>0.00726554</td>\n",
              "      <td>0.007435883</td>\n",
              "      <td>0.007484864</td>\n",
              "    </tr>\n",
              "  </tbody>\n",
              "</table>\n",
              "</div>"
            ],
            "text/plain": [
              "                                  mean  ...   cv_4_valid   cv_5_valid\n",
              "0                     mae    2.3519886  ...    2.3098922    2.4423175\n",
              "1  mean_residual_deviance     11.04688  ...    11.498491    11.554495\n",
              "2                     mse     11.04688  ...    11.498491    11.554495\n",
              "3                      r2   0.96198237  ...   0.96068114    0.9596104\n",
              "4       residual_deviance     11.04688  ...    11.498491    11.554495\n",
              "5                    rmse     3.321691  ...    3.3909426    3.3991902\n",
              "6                   rmsle  0.007286154  ...  0.007435883  0.007484864\n",
              "\n",
              "[7 rows x 8 columns]"
            ]
          },
          "metadata": {
            "tags": []
          }
        },
        {
          "output_type": "stream",
          "text": [
            "\n",
            "Scoring History: \n"
          ],
          "name": "stdout"
        },
        {
          "output_type": "display_data",
          "data": {
            "text/html": [
              "<div>\n",
              "<style scoped>\n",
              "    .dataframe tbody tr th:only-of-type {\n",
              "        vertical-align: middle;\n",
              "    }\n",
              "\n",
              "    .dataframe tbody tr th {\n",
              "        vertical-align: top;\n",
              "    }\n",
              "\n",
              "    .dataframe thead th {\n",
              "        text-align: right;\n",
              "    }\n",
              "</style>\n",
              "<table border=\"1\" class=\"dataframe\">\n",
              "  <thead>\n",
              "    <tr style=\"text-align: right;\">\n",
              "      <th></th>\n",
              "      <th></th>\n",
              "      <th>timestamp</th>\n",
              "      <th>duration</th>\n",
              "      <th>number_of_trees</th>\n",
              "      <th>training_rmse</th>\n",
              "      <th>training_mae</th>\n",
              "      <th>training_deviance</th>\n",
              "    </tr>\n",
              "  </thead>\n",
              "  <tbody>\n",
              "    <tr>\n",
              "      <th>0</th>\n",
              "      <td></td>\n",
              "      <td>2021-04-25 09:40:21</td>\n",
              "      <td>8.533 sec</td>\n",
              "      <td>0.0</td>\n",
              "      <td>454.182071</td>\n",
              "      <td>453.861607</td>\n",
              "      <td>206281.353311</td>\n",
              "    </tr>\n",
              "    <tr>\n",
              "      <th>1</th>\n",
              "      <td></td>\n",
              "      <td>2021-04-25 09:40:21</td>\n",
              "      <td>8.604 sec</td>\n",
              "      <td>5.0</td>\n",
              "      <td>76.399160</td>\n",
              "      <td>76.294025</td>\n",
              "      <td>5836.831684</td>\n",
              "    </tr>\n",
              "    <tr>\n",
              "      <th>2</th>\n",
              "      <td></td>\n",
              "      <td>2021-04-25 09:40:21</td>\n",
              "      <td>8.687 sec</td>\n",
              "      <td>10.0</td>\n",
              "      <td>13.000175</td>\n",
              "      <td>12.830564</td>\n",
              "      <td>169.004544</td>\n",
              "    </tr>\n",
              "    <tr>\n",
              "      <th>3</th>\n",
              "      <td></td>\n",
              "      <td>2021-04-25 09:40:21</td>\n",
              "      <td>8.776 sec</td>\n",
              "      <td>15.0</td>\n",
              "      <td>2.753870</td>\n",
              "      <td>2.339737</td>\n",
              "      <td>7.583801</td>\n",
              "    </tr>\n",
              "    <tr>\n",
              "      <th>4</th>\n",
              "      <td></td>\n",
              "      <td>2021-04-25 09:40:22</td>\n",
              "      <td>9.033 sec</td>\n",
              "      <td>20.0</td>\n",
              "      <td>1.535797</td>\n",
              "      <td>1.175908</td>\n",
              "      <td>2.358671</td>\n",
              "    </tr>\n",
              "    <tr>\n",
              "      <th>5</th>\n",
              "      <td></td>\n",
              "      <td>2021-04-25 09:40:22</td>\n",
              "      <td>9.237 sec</td>\n",
              "      <td>25.0</td>\n",
              "      <td>1.354720</td>\n",
              "      <td>1.029858</td>\n",
              "      <td>1.835266</td>\n",
              "    </tr>\n",
              "    <tr>\n",
              "      <th>6</th>\n",
              "      <td></td>\n",
              "      <td>2021-04-25 09:40:22</td>\n",
              "      <td>9.512 sec</td>\n",
              "      <td>30.0</td>\n",
              "      <td>1.219555</td>\n",
              "      <td>0.927821</td>\n",
              "      <td>1.487315</td>\n",
              "    </tr>\n",
              "    <tr>\n",
              "      <th>7</th>\n",
              "      <td></td>\n",
              "      <td>2021-04-25 09:40:22</td>\n",
              "      <td>9.622 sec</td>\n",
              "      <td>35.0</td>\n",
              "      <td>1.128138</td>\n",
              "      <td>0.861064</td>\n",
              "      <td>1.272696</td>\n",
              "    </tr>\n",
              "    <tr>\n",
              "      <th>8</th>\n",
              "      <td></td>\n",
              "      <td>2021-04-25 09:40:22</td>\n",
              "      <td>9.754 sec</td>\n",
              "      <td>40.0</td>\n",
              "      <td>1.024735</td>\n",
              "      <td>0.784401</td>\n",
              "      <td>1.050082</td>\n",
              "    </tr>\n",
              "    <tr>\n",
              "      <th>9</th>\n",
              "      <td></td>\n",
              "      <td>2021-04-25 09:40:23</td>\n",
              "      <td>9.890 sec</td>\n",
              "      <td>45.0</td>\n",
              "      <td>0.938543</td>\n",
              "      <td>0.719709</td>\n",
              "      <td>0.880863</td>\n",
              "    </tr>\n",
              "    <tr>\n",
              "      <th>10</th>\n",
              "      <td></td>\n",
              "      <td>2021-04-25 09:40:23</td>\n",
              "      <td>10.603 sec</td>\n",
              "      <td>50.0</td>\n",
              "      <td>0.842128</td>\n",
              "      <td>0.645868</td>\n",
              "      <td>0.709179</td>\n",
              "    </tr>\n",
              "    <tr>\n",
              "      <th>11</th>\n",
              "      <td></td>\n",
              "      <td>2021-04-25 09:40:23</td>\n",
              "      <td>10.701 sec</td>\n",
              "      <td>51.0</td>\n",
              "      <td>0.834818</td>\n",
              "      <td>0.640105</td>\n",
              "      <td>0.696920</td>\n",
              "    </tr>\n",
              "  </tbody>\n",
              "</table>\n",
              "</div>"
            ],
            "text/plain": [
              "                timestamp  ... training_mae  training_deviance\n",
              "0     2021-04-25 09:40:21  ...   453.861607      206281.353311\n",
              "1     2021-04-25 09:40:21  ...    76.294025        5836.831684\n",
              "2     2021-04-25 09:40:21  ...    12.830564         169.004544\n",
              "3     2021-04-25 09:40:21  ...     2.339737           7.583801\n",
              "4     2021-04-25 09:40:22  ...     1.175908           2.358671\n",
              "5     2021-04-25 09:40:22  ...     1.029858           1.835266\n",
              "6     2021-04-25 09:40:22  ...     0.927821           1.487315\n",
              "7     2021-04-25 09:40:22  ...     0.861064           1.272696\n",
              "8     2021-04-25 09:40:22  ...     0.784401           1.050082\n",
              "9     2021-04-25 09:40:23  ...     0.719709           0.880863\n",
              "10    2021-04-25 09:40:23  ...     0.645868           0.709179\n",
              "11    2021-04-25 09:40:23  ...     0.640105           0.696920\n",
              "\n",
              "[12 rows x 7 columns]"
            ]
          },
          "metadata": {
            "tags": []
          }
        },
        {
          "output_type": "stream",
          "text": [
            "\n",
            "Variable Importances: \n"
          ],
          "name": "stdout"
        },
        {
          "output_type": "display_data",
          "data": {
            "text/html": [
              "<div>\n",
              "<style scoped>\n",
              "    .dataframe tbody tr th:only-of-type {\n",
              "        vertical-align: middle;\n",
              "    }\n",
              "\n",
              "    .dataframe tbody tr th {\n",
              "        vertical-align: top;\n",
              "    }\n",
              "\n",
              "    .dataframe thead th {\n",
              "        text-align: right;\n",
              "    }\n",
              "</style>\n",
              "<table border=\"1\" class=\"dataframe\">\n",
              "  <thead>\n",
              "    <tr style=\"text-align: right;\">\n",
              "      <th></th>\n",
              "      <th>variable</th>\n",
              "      <th>relative_importance</th>\n",
              "      <th>scaled_importance</th>\n",
              "      <th>percentage</th>\n",
              "    </tr>\n",
              "  </thead>\n",
              "  <tbody>\n",
              "    <tr>\n",
              "      <th>0</th>\n",
              "      <td>TemperatureCelcius</td>\n",
              "      <td>2.728356e+06</td>\n",
              "      <td>1.000000</td>\n",
              "      <td>0.785370</td>\n",
              "    </tr>\n",
              "    <tr>\n",
              "      <th>1</th>\n",
              "      <td>ExhaustVacuumHg</td>\n",
              "      <td>3.219147e+05</td>\n",
              "      <td>0.117989</td>\n",
              "      <td>0.092665</td>\n",
              "    </tr>\n",
              "    <tr>\n",
              "      <th>2</th>\n",
              "      <td>AmbientPressureMillibar</td>\n",
              "      <td>3.095895e+05</td>\n",
              "      <td>0.113471</td>\n",
              "      <td>0.089117</td>\n",
              "    </tr>\n",
              "    <tr>\n",
              "      <th>3</th>\n",
              "      <td>RelativeHumidity</td>\n",
              "      <td>1.141136e+05</td>\n",
              "      <td>0.041825</td>\n",
              "      <td>0.032848</td>\n",
              "    </tr>\n",
              "  </tbody>\n",
              "</table>\n",
              "</div>"
            ],
            "text/plain": [
              "                  variable  relative_importance  scaled_importance  percentage\n",
              "0       TemperatureCelcius         2.728356e+06           1.000000    0.785370\n",
              "1          ExhaustVacuumHg         3.219147e+05           0.117989    0.092665\n",
              "2  AmbientPressureMillibar         3.095895e+05           0.113471    0.089117\n",
              "3         RelativeHumidity         1.141136e+05           0.041825    0.032848"
            ]
          },
          "metadata": {
            "tags": []
          }
        },
        {
          "output_type": "execute_result",
          "data": {
            "text/plain": [
              ""
            ]
          },
          "metadata": {
            "tags": []
          },
          "execution_count": 12
        }
      ]
    },
    {
      "cell_type": "code",
      "metadata": {
        "colab": {
          "base_uri": "https://localhost:8080/",
          "height": 267
        },
        "id": "r_9cRBP9Z2WE",
        "outputId": "ab14541d-064c-4450-f9e8-f4eb2a651b9b"
      },
      "source": [
        "aml.predict(test)"
      ],
      "execution_count": 13,
      "outputs": [
        {
          "output_type": "stream",
          "text": [
            "xgboost prediction progress: |████████████████████████████████████████████| 100%\n"
          ],
          "name": "stdout"
        },
        {
          "output_type": "display_data",
          "data": {
            "text/html": [
              "<table>\n",
              "<thead>\n",
              "<tr><th style=\"text-align: right;\">  predict</th></tr>\n",
              "</thead>\n",
              "<tbody>\n",
              "<tr><td style=\"text-align: right;\">  485.695</td></tr>\n",
              "<tr><td style=\"text-align: right;\">  473.756</td></tr>\n",
              "<tr><td style=\"text-align: right;\">  467.413</td></tr>\n",
              "<tr><td style=\"text-align: right;\">  450.41 </td></tr>\n",
              "<tr><td style=\"text-align: right;\">  448.128</td></tr>\n",
              "<tr><td style=\"text-align: right;\">  468.133</td></tr>\n",
              "<tr><td style=\"text-align: right;\">  442.936</td></tr>\n",
              "<tr><td style=\"text-align: right;\">  466.101</td></tr>\n",
              "<tr><td style=\"text-align: right;\">  442.655</td></tr>\n",
              "<tr><td style=\"text-align: right;\">  431.161</td></tr>\n",
              "</tbody>\n",
              "</table>"
            ]
          },
          "metadata": {
            "tags": []
          }
        },
        {
          "output_type": "execute_result",
          "data": {
            "text/plain": [
              ""
            ]
          },
          "metadata": {
            "tags": []
          },
          "execution_count": 13
        }
      ]
    },
    {
      "cell_type": "code",
      "metadata": {
        "colab": {
          "base_uri": "https://localhost:8080/"
        },
        "id": "ONBiSoBmaYIO",
        "outputId": "60933052-991b-45af-c3bb-7c50640c93fb"
      },
      "source": [
        "len(test)"
      ],
      "execution_count": 14,
      "outputs": [
        {
          "output_type": "execute_result",
          "data": {
            "text/plain": [
              "1891"
            ]
          },
          "metadata": {
            "tags": []
          },
          "execution_count": 14
        }
      ]
    },
    {
      "cell_type": "code",
      "metadata": {
        "colab": {
          "base_uri": "https://localhost:8080/",
          "height": 163
        },
        "id": "dBkY2UoebhT7",
        "outputId": "c1ca4163-b5e5-452f-908b-730affd77495"
      },
      "source": [
        "test.loc(0)"
      ],
      "execution_count": 18,
      "outputs": [
        {
          "output_type": "error",
          "ename": "AttributeError",
          "evalue": "ignored",
          "traceback": [
            "\u001b[0;31m---------------------------------------------------------------------------\u001b[0m",
            "\u001b[0;31mAttributeError\u001b[0m                            Traceback (most recent call last)",
            "\u001b[0;32m<ipython-input-18-0e0f0b3a11e2>\u001b[0m in \u001b[0;36m<module>\u001b[0;34m()\u001b[0m\n\u001b[0;32m----> 1\u001b[0;31m \u001b[0mtest\u001b[0m\u001b[0;34m.\u001b[0m\u001b[0mloc\u001b[0m\u001b[0;34m(\u001b[0m\u001b[0;36m0\u001b[0m\u001b[0;34m)\u001b[0m\u001b[0;34m\u001b[0m\u001b[0;34m\u001b[0m\u001b[0m\n\u001b[0m",
            "\u001b[0;31mAttributeError\u001b[0m: 'H2OFrame' object has no attribute 'loc'"
          ]
        }
      ]
    },
    {
      "cell_type": "code",
      "metadata": {
        "id": "59beL8ewbod8"
      },
      "source": [
        "test_pd_df = test.as_data_frame()"
      ],
      "execution_count": 20,
      "outputs": []
    },
    {
      "cell_type": "code",
      "metadata": {
        "colab": {
          "base_uri": "https://localhost:8080/"
        },
        "id": "sVjFMxjVcP-o",
        "outputId": "2c084bea-45ac-45ea-ae74-f82beb9eeb9e"
      },
      "source": [
        "test_pd_df.iloc[0]"
      ],
      "execution_count": 21,
      "outputs": [
        {
          "output_type": "execute_result",
          "data": {
            "text/plain": [
              "TemperatureCelcius            5.11\n",
              "ExhaustVacuumHg              39.40\n",
              "AmbientPressureMillibar    1012.16\n",
              "RelativeHumidity             92.14\n",
              "HourlyEnergyOutputMW        488.56\n",
              "Name: 0, dtype: float64"
            ]
          },
          "metadata": {
            "tags": []
          },
          "execution_count": 21
        }
      ]
    },
    {
      "cell_type": "code",
      "metadata": {
        "colab": {
          "base_uri": "https://localhost:8080/",
          "height": 299
        },
        "id": "pYzgQKugce8W",
        "outputId": "a1d28b16-2f86-4e2a-b8f8-07eb9b556fb8"
      },
      "source": [
        "aml.leader.predict(test_pd_df.iloc[0])"
      ],
      "execution_count": 22,
      "outputs": [
        {
          "output_type": "error",
          "ename": "ValueError",
          "evalue": "ignored",
          "traceback": [
            "\u001b[0;31m---------------------------------------------------------------------------\u001b[0m",
            "\u001b[0;31mValueError\u001b[0m                                Traceback (most recent call last)",
            "\u001b[0;32m<ipython-input-22-48777f0693d9>\u001b[0m in \u001b[0;36m<module>\u001b[0;34m()\u001b[0m\n\u001b[0;32m----> 1\u001b[0;31m \u001b[0maml\u001b[0m\u001b[0;34m.\u001b[0m\u001b[0mleader\u001b[0m\u001b[0;34m.\u001b[0m\u001b[0mpredict\u001b[0m\u001b[0;34m(\u001b[0m\u001b[0mtest_pd_df\u001b[0m\u001b[0;34m.\u001b[0m\u001b[0miloc\u001b[0m\u001b[0;34m[\u001b[0m\u001b[0;36m0\u001b[0m\u001b[0;34m]\u001b[0m\u001b[0;34m)\u001b[0m\u001b[0;34m\u001b[0m\u001b[0;34m\u001b[0m\u001b[0m\n\u001b[0m",
            "\u001b[0;32m/usr/local/lib/python3.7/dist-packages/h2o/model/model_base.py\u001b[0m in \u001b[0;36mpredict\u001b[0;34m(self, test_data, custom_metric, custom_metric_func)\u001b[0m\n\u001b[1;32m    232\u001b[0m                              \"The argument 'eval_func_ref' cannot be specified when eval_func is specified, \")\n\u001b[1;32m    233\u001b[0m             \u001b[0meval_func_ref\u001b[0m \u001b[0;34m=\u001b[0m \u001b[0mh2o\u001b[0m\u001b[0;34m.\u001b[0m\u001b[0mupload_custom_metric\u001b[0m\u001b[0;34m(\u001b[0m\u001b[0mcustom_metric\u001b[0m\u001b[0;34m)\u001b[0m\u001b[0;34m\u001b[0m\u001b[0;34m\u001b[0m\u001b[0m\n\u001b[0;32m--> 234\u001b[0;31m         \u001b[0;32mif\u001b[0m \u001b[0;32mnot\u001b[0m \u001b[0misinstance\u001b[0m\u001b[0;34m(\u001b[0m\u001b[0mtest_data\u001b[0m\u001b[0;34m,\u001b[0m \u001b[0mh2o\u001b[0m\u001b[0;34m.\u001b[0m\u001b[0mH2OFrame\u001b[0m\u001b[0;34m)\u001b[0m\u001b[0;34m:\u001b[0m \u001b[0;32mraise\u001b[0m \u001b[0mValueError\u001b[0m\u001b[0;34m(\u001b[0m\u001b[0;34m\"test_data must be an instance of H2OFrame\"\u001b[0m\u001b[0;34m)\u001b[0m\u001b[0;34m\u001b[0m\u001b[0;34m\u001b[0m\u001b[0m\n\u001b[0m\u001b[1;32m    235\u001b[0m         j = H2OJob(h2o.api(\"POST /4/Predictions/models/%s/frames/%s\" % (self.model_id, test_data.frame_id), data = {'custom_metric_func': custom_metric_func}),\n\u001b[1;32m    236\u001b[0m                    self._model_json[\"algo\"] + \" prediction\")\n",
            "\u001b[0;31mValueError\u001b[0m: test_data must be an instance of H2OFrame"
          ]
        }
      ]
    },
    {
      "cell_type": "code",
      "metadata": {
        "colab": {
          "base_uri": "https://localhost:8080/",
          "height": 408
        },
        "id": "fAhrWyN9cuXX",
        "outputId": "28107ccc-61d0-4366-fb85-19b68abb10ee"
      },
      "source": [
        "hf = h2o.H2OFrame(test_pd_df.iloc[0])"
      ],
      "execution_count": 23,
      "outputs": [
        {
          "output_type": "error",
          "ename": "H2OTypeError",
          "evalue": "ignored",
          "traceback": [
            "\u001b[0;31m---------------------------------------------------------------------------\u001b[0m",
            "\u001b[0;31mH2OTypeError\u001b[0m                              Traceback (most recent call last)",
            "\u001b[0;32m<ipython-input-23-f6b0df061fa2>\u001b[0m in \u001b[0;36m<module>\u001b[0;34m()\u001b[0m\n\u001b[0;32m----> 1\u001b[0;31m \u001b[0mhf\u001b[0m \u001b[0;34m=\u001b[0m \u001b[0mh2o\u001b[0m\u001b[0;34m.\u001b[0m\u001b[0mH2OFrame\u001b[0m\u001b[0;34m(\u001b[0m\u001b[0mtest_pd_df\u001b[0m\u001b[0;34m.\u001b[0m\u001b[0miloc\u001b[0m\u001b[0;34m[\u001b[0m\u001b[0;36m0\u001b[0m\u001b[0;34m]\u001b[0m\u001b[0;34m)\u001b[0m\u001b[0;34m\u001b[0m\u001b[0;34m\u001b[0m\u001b[0m\n\u001b[0m",
            "\u001b[0;32m/usr/local/lib/python3.7/dist-packages/h2o/frame.py\u001b[0m in \u001b[0;36m__init__\u001b[0;34m(self, python_obj, destination_frame, header, separator, column_names, column_types, na_strings, skipped_columns)\u001b[0m\n\u001b[1;32m     94\u001b[0m         coltype = U(None, \"unknown\", \"uuid\", \"string\", \"float\", \"real\", \"double\", \"int\", \"long\", \"numeric\",\n\u001b[1;32m     95\u001b[0m                     \"categorical\", \"factor\", \"enum\", \"time\")\n\u001b[0;32m---> 96\u001b[0;31m         \u001b[0massert_is_type\u001b[0m\u001b[0;34m(\u001b[0m\u001b[0mpython_obj\u001b[0m\u001b[0;34m,\u001b[0m \u001b[0;32mNone\u001b[0m\u001b[0;34m,\u001b[0m \u001b[0mlist\u001b[0m\u001b[0;34m,\u001b[0m \u001b[0mtuple\u001b[0m\u001b[0;34m,\u001b[0m \u001b[0mdict\u001b[0m\u001b[0;34m,\u001b[0m \u001b[0mnumpy_ndarray\u001b[0m\u001b[0;34m,\u001b[0m \u001b[0mpandas_dataframe\u001b[0m\u001b[0;34m,\u001b[0m \u001b[0mscipy_sparse\u001b[0m\u001b[0;34m)\u001b[0m\u001b[0;34m\u001b[0m\u001b[0;34m\u001b[0m\u001b[0m\n\u001b[0m\u001b[1;32m     97\u001b[0m         \u001b[0massert_is_type\u001b[0m\u001b[0;34m(\u001b[0m\u001b[0mdestination_frame\u001b[0m\u001b[0;34m,\u001b[0m \u001b[0;32mNone\u001b[0m\u001b[0;34m,\u001b[0m \u001b[0mstr\u001b[0m\u001b[0;34m)\u001b[0m\u001b[0;34m\u001b[0m\u001b[0;34m\u001b[0m\u001b[0m\n\u001b[1;32m     98\u001b[0m         \u001b[0massert_is_type\u001b[0m\u001b[0;34m(\u001b[0m\u001b[0mheader\u001b[0m\u001b[0;34m,\u001b[0m \u001b[0;34m-\u001b[0m\u001b[0;36m1\u001b[0m\u001b[0;34m,\u001b[0m \u001b[0;36m0\u001b[0m\u001b[0;34m,\u001b[0m \u001b[0;36m1\u001b[0m\u001b[0;34m)\u001b[0m\u001b[0;34m\u001b[0m\u001b[0;34m\u001b[0m\u001b[0m\n",
            "\u001b[0;32m/usr/local/lib/python3.7/dist-packages/h2o/utils/typechecks.py\u001b[0m in \u001b[0;36massert_is_type\u001b[0;34m(var, *types, **kwargs)\u001b[0m\n\u001b[1;32m    454\u001b[0m     \u001b[0mvtn\u001b[0m \u001b[0;34m=\u001b[0m \u001b[0m_get_type_name\u001b[0m\u001b[0;34m(\u001b[0m\u001b[0mtype\u001b[0m\u001b[0;34m(\u001b[0m\u001b[0mvar\u001b[0m\u001b[0;34m)\u001b[0m\u001b[0;34m)\u001b[0m\u001b[0;34m\u001b[0m\u001b[0;34m\u001b[0m\u001b[0m\n\u001b[1;32m    455\u001b[0m     raise H2OTypeError(var_name=vname, var_value=var, var_type_name=vtn, exp_type_name=etn, message=message,\n\u001b[0;32m--> 456\u001b[0;31m                        skip_frames=skip_frames)\n\u001b[0m\u001b[1;32m    457\u001b[0m \u001b[0;34m\u001b[0m\u001b[0m\n\u001b[1;32m    458\u001b[0m \u001b[0;34m\u001b[0m\u001b[0m\n",
            "\u001b[0;31mH2OTypeError\u001b[0m: Argument `python_obj` should be a None | list | tuple | dict | numpy.ndarray | pandas.DataFrame | scipy.sparse.issparse, got Series TemperatureCelcius            5.11\nExhaustVacuumHg              39.40\nAmbientPressureMillibar    1012.16\nRelativeHumidity             92.14\nHourlyEnergyOutputMW        488.56\nName: 0, dtype: float64"
          ]
        }
      ]
    },
    {
      "cell_type": "code",
      "metadata": {
        "colab": {
          "base_uri": "https://localhost:8080/",
          "height": 250
        },
        "id": "20iN-XrJdal0",
        "outputId": "7400c9e6-357c-480b-de35-be56d1182183"
      },
      "source": [
        " test[range(0,20),:]"
      ],
      "execution_count": 26,
      "outputs": [
        {
          "output_type": "display_data",
          "data": {
            "text/html": [
              "<table>\n",
              "<thead>\n",
              "<tr><th style=\"text-align: right;\">  TemperatureCelcius</th><th style=\"text-align: right;\">  ExhaustVacuumHg</th><th style=\"text-align: right;\">  AmbientPressureMillibar</th><th style=\"text-align: right;\">  RelativeHumidity</th><th style=\"text-align: right;\">  HourlyEnergyOutputMW</th></tr>\n",
              "</thead>\n",
              "<tbody>\n",
              "<tr><td style=\"text-align: right;\">                5.11</td><td style=\"text-align: right;\">            39.4 </td><td style=\"text-align: right;\">                  1012.16</td><td style=\"text-align: right;\">             92.14</td><td style=\"text-align: right;\">                488.56</td></tr>\n",
              "<tr><td style=\"text-align: right;\">               11.74</td><td style=\"text-align: right;\">            43.56</td><td style=\"text-align: right;\">                  1015.14</td><td style=\"text-align: right;\">             70.72</td><td style=\"text-align: right;\">                477.5 </td></tr>\n",
              "<tr><td style=\"text-align: right;\">               17.76</td><td style=\"text-align: right;\">            42.42</td><td style=\"text-align: right;\">                  1009.09</td><td style=\"text-align: right;\">             66.26</td><td style=\"text-align: right;\">                468.27</td></tr>\n",
              "<tr><td style=\"text-align: right;\">               16.38</td><td style=\"text-align: right;\">            47.45</td><td style=\"text-align: right;\">                  1010.08</td><td style=\"text-align: right;\">             88.86</td><td style=\"text-align: right;\">                450.69</td></tr>\n",
              "<tr><td style=\"text-align: right;\">               23.18</td><td style=\"text-align: right;\">            51.3 </td><td style=\"text-align: right;\">                  1012.04</td><td style=\"text-align: right;\">             78.64</td><td style=\"text-align: right;\">                448.86</td></tr>\n",
              "<tr><td style=\"text-align: right;\">               12.82</td><td style=\"text-align: right;\">            38.62</td><td style=\"text-align: right;\">                  1018.71</td><td style=\"text-align: right;\">             83.8 </td><td style=\"text-align: right;\">                467.41</td></tr>\n",
              "<tr><td style=\"text-align: right;\">               23.04</td><td style=\"text-align: right;\">            59.43</td><td style=\"text-align: right;\">                  1010.23</td><td style=\"text-align: right;\">             68.99</td><td style=\"text-align: right;\">                442.99</td></tr>\n",
              "<tr><td style=\"text-align: right;\">               13.76</td><td style=\"text-align: right;\">            45.87</td><td style=\"text-align: right;\">                  1008.89</td><td style=\"text-align: right;\">             87.27</td><td style=\"text-align: right;\">                463.5 </td></tr>\n",
              "<tr><td style=\"text-align: right;\">               25.5 </td><td style=\"text-align: right;\">            58.79</td><td style=\"text-align: right;\">                  1016.02</td><td style=\"text-align: right;\">             64.4 </td><td style=\"text-align: right;\">                440.01</td></tr>\n",
              "<tr><td style=\"text-align: right;\">               26.46</td><td style=\"text-align: right;\">            74.67</td><td style=\"text-align: right;\">                  1016.65</td><td style=\"text-align: right;\">             84.44</td><td style=\"text-align: right;\">                431.65</td></tr>\n",
              "</tbody>\n",
              "</table>"
            ]
          },
          "metadata": {
            "tags": []
          }
        },
        {
          "output_type": "execute_result",
          "data": {
            "text/plain": [
              ""
            ]
          },
          "metadata": {
            "tags": []
          },
          "execution_count": 26
        }
      ]
    },
    {
      "cell_type": "code",
      "metadata": {
        "colab": {
          "base_uri": "https://localhost:8080/",
          "height": 267
        },
        "id": "-KUNGNTSd2ud",
        "outputId": "7e37823b-d47b-40cc-8ab3-1bf31879dbf3"
      },
      "source": [
        "aml.predict(test[range(0,20),:])"
      ],
      "execution_count": 27,
      "outputs": [
        {
          "output_type": "stream",
          "text": [
            "xgboost prediction progress: |████████████████████████████████████████████| 100%\n"
          ],
          "name": "stdout"
        },
        {
          "output_type": "display_data",
          "data": {
            "text/html": [
              "<table>\n",
              "<thead>\n",
              "<tr><th style=\"text-align: right;\">  predict</th></tr>\n",
              "</thead>\n",
              "<tbody>\n",
              "<tr><td style=\"text-align: right;\">  485.695</td></tr>\n",
              "<tr><td style=\"text-align: right;\">  473.756</td></tr>\n",
              "<tr><td style=\"text-align: right;\">  467.413</td></tr>\n",
              "<tr><td style=\"text-align: right;\">  450.41 </td></tr>\n",
              "<tr><td style=\"text-align: right;\">  448.128</td></tr>\n",
              "<tr><td style=\"text-align: right;\">  468.133</td></tr>\n",
              "<tr><td style=\"text-align: right;\">  442.936</td></tr>\n",
              "<tr><td style=\"text-align: right;\">  466.101</td></tr>\n",
              "<tr><td style=\"text-align: right;\">  442.655</td></tr>\n",
              "<tr><td style=\"text-align: right;\">  431.161</td></tr>\n",
              "</tbody>\n",
              "</table>"
            ]
          },
          "metadata": {
            "tags": []
          }
        },
        {
          "output_type": "execute_result",
          "data": {
            "text/plain": [
              ""
            ]
          },
          "metadata": {
            "tags": []
          },
          "execution_count": 27
        }
      ]
    },
    {
      "cell_type": "code",
      "metadata": {
        "id": "Olta8VUHeCUD"
      },
      "source": [
        ""
      ],
      "execution_count": null,
      "outputs": []
    }
  ]
}